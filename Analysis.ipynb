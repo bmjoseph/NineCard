{
 "cells": [
  {
   "cell_type": "markdown",
   "metadata": {},
   "source": [
    "# Nine Card Analysis"
   ]
  },
  {
   "cell_type": "code",
   "execution_count": 1,
   "metadata": {},
   "outputs": [],
   "source": [
    "import sys\n",
    "sys.path.append(\"scripts\")\n",
    "from gameLogic import *\n",
    "from scoring import *\n",
    "from strategies import *\n",
    "import matplotlib.pyplot as plt"
   ]
  },
  {
   "cell_type": "code",
   "execution_count": 2,
   "metadata": {},
   "outputs": [],
   "source": [
    "strat_dict = {\"Knock at 50\": make_constant_score_knock_strategy(50), \"Knock at 13\": make_constant_score_knock_strategy(13),\n",
    "             \"Pile if Completes\": draw_from_pile_if_completes, \n",
    "             \"Discard Highest Useless\": discard_highest_useless}"
   ]
  },
  {
   "cell_type": "code",
   "execution_count": 3,
   "metadata": {},
   "outputs": [
    {
     "data": {
      "text/plain": [
       "{'Bailey': [0, -6, -20, -28, -63, -55], 'Dan': [0, 6, 20, 28, 63, 55]}"
      ]
     },
     "execution_count": 3,
     "metadata": {},
     "output_type": "execute_result"
    }
   ],
   "source": [
    "game = Game(player_names = [\"Bailey\", \"Dan\"],\n",
    "            strategy_dict = strat_dict,\n",
    "            knock_strategies = [\"Knock at 50\", \"Knock at 13\"],\n",
    "            pile_strategies = [\"Pile if Completes\", \"Pile if Completes\"],\n",
    "            discard_strategies = [\"Discard Highest Useless\", \"Discard Highest Useless\"],\n",
    "            target_score = 25, total_rounds = 5, verbose = False, random_seed = 14,\n",
    "            data_path = \"data/results.csv\", extra_comments = \"TESTING\", save_results = True)\n",
    "\n",
    "game.play_game()"
   ]
  },
  {
   "cell_type": "code",
   "execution_count": 4,
   "metadata": {},
   "outputs": [
    {
     "data": {
      "text/html": [
       "<div>\n",
       "<style scoped>\n",
       "    .dataframe tbody tr th:only-of-type {\n",
       "        vertical-align: middle;\n",
       "    }\n",
       "\n",
       "    .dataframe tbody tr th {\n",
       "        vertical-align: top;\n",
       "    }\n",
       "\n",
       "    .dataframe thead th {\n",
       "        text-align: right;\n",
       "    }\n",
       "</style>\n",
       "<table border=\"1\" class=\"dataframe\">\n",
       "  <thead>\n",
       "    <tr style=\"text-align: right;\">\n",
       "      <th></th>\n",
       "      <th>Unnamed: 0</th>\n",
       "      <th>avg_win</th>\n",
       "      <th>discard_strategy</th>\n",
       "      <th>draw_strategy</th>\n",
       "      <th>knock_strategy</th>\n",
       "      <th>notes</th>\n",
       "      <th>player_number</th>\n",
       "      <th>rounds</th>\n",
       "      <th>seed</th>\n",
       "      <th>sim_id</th>\n",
       "      <th>var_win</th>\n",
       "      <th>wins</th>\n",
       "    </tr>\n",
       "  </thead>\n",
       "  <tbody>\n",
       "    <tr>\n",
       "      <th>0</th>\n",
       "      <td>0.0</td>\n",
       "      <td>-11.0</td>\n",
       "      <td>&lt;function discard_highest_useless at 0x1184dae18&gt;</td>\n",
       "      <td>&lt;function draw_from_pile_if_completes at 0x118...</td>\n",
       "      <td>&lt;function make_constant_score_knock_strategy.&lt;...</td>\n",
       "      <td>TESTING</td>\n",
       "      <td>0.0</td>\n",
       "      <td>5.0</td>\n",
       "      <td>13.0</td>\n",
       "      <td>1.0</td>\n",
       "      <td>11.89958</td>\n",
       "      <td>1.0</td>\n",
       "    </tr>\n",
       "    <tr>\n",
       "      <th>1</th>\n",
       "      <td>1.0</td>\n",
       "      <td>11.0</td>\n",
       "      <td>&lt;function discard_highest_useless at 0x1184dae18&gt;</td>\n",
       "      <td>&lt;function draw_from_pile_if_completes at 0x118...</td>\n",
       "      <td>&lt;function make_constant_score_knock_strategy.&lt;...</td>\n",
       "      <td>TESTING</td>\n",
       "      <td>1.0</td>\n",
       "      <td>5.0</td>\n",
       "      <td>13.0</td>\n",
       "      <td>1.0</td>\n",
       "      <td>11.89958</td>\n",
       "      <td>4.0</td>\n",
       "    </tr>\n",
       "    <tr>\n",
       "      <th>2</th>\n",
       "      <td>NaN</td>\n",
       "      <td>-11.0</td>\n",
       "      <td>Discard Highest Useless</td>\n",
       "      <td>Pile if Completes</td>\n",
       "      <td>Knock at 50</td>\n",
       "      <td>TESTING</td>\n",
       "      <td>0.0</td>\n",
       "      <td>5.0</td>\n",
       "      <td>14.0</td>\n",
       "      <td>2.0</td>\n",
       "      <td>14.00000</td>\n",
       "      <td>1.0</td>\n",
       "    </tr>\n",
       "    <tr>\n",
       "      <th>3</th>\n",
       "      <td>NaN</td>\n",
       "      <td>11.0</td>\n",
       "      <td>Discard Highest Useless</td>\n",
       "      <td>Pile if Completes</td>\n",
       "      <td>Knock at 13</td>\n",
       "      <td>TESTING</td>\n",
       "      <td>1.0</td>\n",
       "      <td>5.0</td>\n",
       "      <td>14.0</td>\n",
       "      <td>2.0</td>\n",
       "      <td>14.00000</td>\n",
       "      <td>4.0</td>\n",
       "    </tr>\n",
       "  </tbody>\n",
       "</table>\n",
       "</div>"
      ],
      "text/plain": [
       "   Unnamed: 0  avg_win                                   discard_strategy  \\\n",
       "0         0.0    -11.0  <function discard_highest_useless at 0x1184dae18>   \n",
       "1         1.0     11.0  <function discard_highest_useless at 0x1184dae18>   \n",
       "2         NaN    -11.0                            Discard Highest Useless   \n",
       "3         NaN     11.0                            Discard Highest Useless   \n",
       "\n",
       "                                       draw_strategy  \\\n",
       "0  <function draw_from_pile_if_completes at 0x118...   \n",
       "1  <function draw_from_pile_if_completes at 0x118...   \n",
       "2                                  Pile if Completes   \n",
       "3                                  Pile if Completes   \n",
       "\n",
       "                                      knock_strategy    notes  player_number  \\\n",
       "0  <function make_constant_score_knock_strategy.<...  TESTING            0.0   \n",
       "1  <function make_constant_score_knock_strategy.<...  TESTING            1.0   \n",
       "2                                        Knock at 50  TESTING            0.0   \n",
       "3                                        Knock at 13  TESTING            1.0   \n",
       "\n",
       "   rounds  seed  sim_id   var_win  wins  \n",
       "0     5.0  13.0     1.0  11.89958   1.0  \n",
       "1     5.0  13.0     1.0  11.89958   4.0  \n",
       "2     5.0  14.0     2.0  14.00000   1.0  \n",
       "3     5.0  14.0     2.0  14.00000   4.0  "
      ]
     },
     "execution_count": 4,
     "metadata": {},
     "output_type": "execute_result"
    }
   ],
   "source": [
    "pd.read_csv(\"data/results.csv\")"
   ]
  },
  {
   "cell_type": "code",
   "execution_count": 9,
   "metadata": {},
   "outputs": [
    {
     "data": {
      "text/plain": [
       "[0, 4, 18, 44, 42, 61]"
      ]
     },
     "execution_count": 9,
     "metadata": {},
     "output_type": "execute_result"
    }
   ],
   "source": [
    "game.players[1].score"
   ]
  },
  {
   "cell_type": "code",
   "execution_count": 8,
   "metadata": {},
   "outputs": [
    {
     "name": "stdout",
     "output_type": "stream",
     "text": [
      "-12.2\n"
     ]
    },
    {
     "data": {
      "image/png": "[encoded data removed]",
      "text/plain": [
       "<Figure size 432x288 with 1 Axes>"
      ]
     },
     "metadata": {
      "needs_background": "light"
     },
     "output_type": "display_data"
    }
   ],
   "source": [
    "print(np.mean(np.diff(np.array(game.players[0].score))))\n",
    "plt.hist(np.diff(np.array(game.players[0].score)));"
   ]
  },
  {
   "cell_type": "markdown",
   "metadata": {},
   "source": [
    "## what do we want to store after trials:\n",
    "\n",
    "We want:\n",
    "\n",
    "1. to rank the strategies\n",
    "2. to understand the difference between them (i.e. how much better is the advanced strategy than the basic strategy)\n",
    "\n",
    "\n",
    "### what should we store:\n",
    "\n",
    "We need:\n",
    "\n",
    "1. player 1:\n",
    "    - strategy\n",
    "    - total rounds won\n",
    "    - avg score per round\n",
    "    - variance score per round\n",
    "    - store a plot of the round scores (if possible)\n",
    "    - total rounds played\n",
    "2. player 2:\n",
    "    - strategy\n",
    "    - total rounds won\n",
    "    - avg score per round\n",
    "    - variance score per round\n",
    "    - store a plot of the round scores (if possible)\n",
    "    - total rounds played\n",
    "\n",
    "### analysis we'll do:\n",
    "\n",
    "For each combination of strategies, do the following:\n",
    "\n",
    "1. "
   ]
  },
  {
   "cell_type": "code",
   "execution_count": null,
   "metadata": {},
   "outputs": [],
   "source": []
  },
  {
   "cell_type": "code",
   "execution_count": null,
   "metadata": {},
   "outputs": [],
   "source": []
  }
 ],
 "metadata": {
  "kernelspec": {
   "display_name": "Python 3",
   "language": "python",
   "name": "python3"
  },
  "language_info": {
   "codemirror_mode": {
    "name": "ipython",
    "version": 3
   },
   "file_extension": ".py",
   "mimetype": "text/x-python",
   "name": "python",
   "nbconvert_exporter": "python",
   "pygments_lexer": "ipython3",
   "version": "3.6.4"
  }
 },
 "nbformat": 4,
 "nbformat_minor": 2
}
