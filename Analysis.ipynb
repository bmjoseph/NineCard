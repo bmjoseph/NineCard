{
 "cells": [
  {
   "cell_type": "markdown",
   "metadata": {},
   "source": [
    "# Nine Card Analysis"
   ]
  },
  {
   "cell_type": "code",
   "execution_count": 2,
   "metadata": {},
   "outputs": [],
   "source": [
    "import sys\n",
    "sys.path.append(\"scripts\")\n",
    "from gameLogic import *\n",
    "from scoring import *\n",
    "from strategies import *\n",
    "import matplotlib.pyplot as plt"
   ]
  },
  {
   "cell_type": "code",
   "execution_count": 6,
   "metadata": {},
   "outputs": [
    {
     "name": "stdout",
     "output_type": "stream",
     "text": [
      "Wall time: 6.66 s\n"
     ]
    }
   ],
   "source": [
    "%%time\n",
    "\n",
    "game = Game(player_names = [\"Bailey\", \"Dan\"],\n",
    "            knock_strategies = [make_constant_score_knock_strategy(50), make_constant_score_knock_strategy(13)],\n",
    "            pile_strategies = [draw_from_pile_if_completes, draw_from_pile_if_completes],\n",
    "            discard_strategies = [discard_highest_useless, discard_highest_useless],\n",
    "            target_score = 25, total_rounds = 5, verbose = False, random_seed = 13)\n",
    "\n",
    "game.play_game()"
   ]
  },
  {
   "cell_type": "code",
   "execution_count": 9,
   "metadata": {},
   "outputs": [
    {
     "data": {
      "text/plain": [
       "[0, 4, 18, 44, 42, 61]"
      ]
     },
     "execution_count": 9,
     "metadata": {},
     "output_type": "execute_result"
    }
   ],
   "source": [
    "game.players[1].score"
   ]
  },
  {
   "cell_type": "code",
   "execution_count": 8,
   "metadata": {},
   "outputs": [
    {
     "name": "stdout",
     "output_type": "stream",
     "text": [
      "-12.2\n"
     ]
    },
    {
     "data": {
      "image/png": "[encoded data removed]",
      "text/plain": [
       "<Figure size 432x288 with 1 Axes>"
      ]
     },
     "metadata": {
      "needs_background": "light"
     },
     "output_type": "display_data"
    }
   ],
   "source": [
    "print(np.mean(np.diff(np.array(game.players[0].score))))\n",
    "plt.hist(np.diff(np.array(game.players[0].score)));"
   ]
  },
  {
   "cell_type": "markdown",
   "metadata": {},
   "source": [
    "## what do we want to store after trials:\n",
    "\n",
    "We want:\n",
    "\n",
    "1. to rank the strategies\n",
    "2. to understand the difference between them (i.e. how much better is the advanced strategy than the basic strategy)\n",
    "\n",
    "\n",
    "### what should we store:\n",
    "\n",
    "We need:\n",
    "\n",
    "1. player 1:\n",
    "    - strategy\n",
    "    - total rounds won\n",
    "    - avg score per round\n",
    "    - variance score per round\n",
    "    - store a plot of the round scores (if possible)\n",
    "    - total rounds played\n",
    "2. player 2:\n",
    "    - strategy\n",
    "    - total rounds won\n",
    "    - avg score per round\n",
    "    - variance score per round\n",
    "    - store a plot of the round scores (if possible)\n",
    "    - total rounds played\n",
    "\n",
    "### analysis we'll do:\n",
    "\n",
    "For each combination of strategies, do the following:\n",
    "\n",
    "1. "
   ]
  },
  {
   "cell_type": "code",
   "execution_count": null,
   "metadata": {},
   "outputs": [],
   "source": []
  },
  {
   "cell_type": "code",
   "execution_count": null,
   "metadata": {},
   "outputs": [],
   "source": []
  }
 ],
 "metadata": {
  "kernelspec": {
   "display_name": "Python 3",
   "language": "python",
   "name": "python3"
  },
  "language_info": {
   "codemirror_mode": {
    "name": "ipython",
    "version": 3
   },
   "file_extension": ".py",
   "mimetype": "text/x-python",
   "name": "python",
   "nbconvert_exporter": "python",
   "pygments_lexer": "ipython3",
   "version": "3.7.0"
  }
 },
 "nbformat": 4,
 "nbformat_minor": 2
}
